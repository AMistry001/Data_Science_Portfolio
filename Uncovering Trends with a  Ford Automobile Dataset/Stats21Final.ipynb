{
 "cells": [
  {
   "cell_type": "markdown",
   "metadata": {
    "id": "lPbt6UPOoxVv"
   },
   "source": [
    "# Uncovering Trends Among the Sale of Old and New Ford Vehicles"
   ]
  },
  {
   "cell_type": "markdown",
   "metadata": {},
   "source": [
    "## Introduction:"
   ]
  },
  {
   "cell_type": "markdown",
   "metadata": {},
   "source": [
    "This notebook consists of my portion of the group final project of my Stats 21 course. The project involved picking a dataset of over 10,000 rows, with each group member performing an analysis of their choice in order to uncover new trends in the data. This particular dataset was sourced from [Kaggle](https://www.kaggle.com/datasets/adhurimquku/ford-car-price-prediction), and it desrcibes the sale prices of new and used Ford vehicles available in the European market, along with other basic information about the vehicle (mileage, fuel economy, fuel type, etc). I chose to focus on the durability and longevity of the vehicles in the dataset. Specifically, I wanted to answer the question: what attributes do the highest-mileage cars in the dataset have in common, and how can we use this information to predict the longevity of future cars?"
   ]
  },
  {
   "cell_type": "markdown",
   "metadata": {
    "id": "tvw4zwGzpDbB"
   },
   "source": [
    "## Import the Data:"
   ]
  },
  {
   "cell_type": "markdown",
   "metadata": {
    "id": "0fl2p7rP8F6c"
   },
   "source": [
    "We first look at importing our data and examining its structure."
   ]
  },
  {
   "cell_type": "code",
   "execution_count": 2,
   "metadata": {
    "colab": {
     "base_uri": "https://localhost:8080/",
     "height": 424
    },
    "id": "PWtk3tALpCjf",
    "outputId": "36c2f558-61a9-48cf-c3fb-fe38acb8c25e"
   },
   "outputs": [
    {
     "data": {
      "text/html": [
       "<div>\n",
       "<style scoped>\n",
       "    .dataframe tbody tr th:only-of-type {\n",
       "        vertical-align: middle;\n",
       "    }\n",
       "\n",
       "    .dataframe tbody tr th {\n",
       "        vertical-align: top;\n",
       "    }\n",
       "\n",
       "    .dataframe thead th {\n",
       "        text-align: right;\n",
       "    }\n",
       "</style>\n",
       "<table border=\"1\" class=\"dataframe\">\n",
       "  <thead>\n",
       "    <tr style=\"text-align: right;\">\n",
       "      <th></th>\n",
       "      <th>model</th>\n",
       "      <th>year</th>\n",
       "      <th>price</th>\n",
       "      <th>transmission</th>\n",
       "      <th>mileage</th>\n",
       "      <th>fuelType</th>\n",
       "      <th>tax</th>\n",
       "      <th>mpg</th>\n",
       "      <th>engineSize</th>\n",
       "    </tr>\n",
       "  </thead>\n",
       "  <tbody>\n",
       "    <tr>\n",
       "      <th>0</th>\n",
       "      <td>Fiesta</td>\n",
       "      <td>2017</td>\n",
       "      <td>12000</td>\n",
       "      <td>Automatic</td>\n",
       "      <td>15944</td>\n",
       "      <td>Petrol</td>\n",
       "      <td>150</td>\n",
       "      <td>57.7</td>\n",
       "      <td>1.0</td>\n",
       "    </tr>\n",
       "    <tr>\n",
       "      <th>1</th>\n",
       "      <td>Focus</td>\n",
       "      <td>2018</td>\n",
       "      <td>14000</td>\n",
       "      <td>Manual</td>\n",
       "      <td>9083</td>\n",
       "      <td>Petrol</td>\n",
       "      <td>150</td>\n",
       "      <td>57.7</td>\n",
       "      <td>1.0</td>\n",
       "    </tr>\n",
       "    <tr>\n",
       "      <th>2</th>\n",
       "      <td>Focus</td>\n",
       "      <td>2017</td>\n",
       "      <td>13000</td>\n",
       "      <td>Manual</td>\n",
       "      <td>12456</td>\n",
       "      <td>Petrol</td>\n",
       "      <td>150</td>\n",
       "      <td>57.7</td>\n",
       "      <td>1.0</td>\n",
       "    </tr>\n",
       "    <tr>\n",
       "      <th>3</th>\n",
       "      <td>Fiesta</td>\n",
       "      <td>2019</td>\n",
       "      <td>17500</td>\n",
       "      <td>Manual</td>\n",
       "      <td>10460</td>\n",
       "      <td>Petrol</td>\n",
       "      <td>145</td>\n",
       "      <td>40.3</td>\n",
       "      <td>1.5</td>\n",
       "    </tr>\n",
       "    <tr>\n",
       "      <th>4</th>\n",
       "      <td>Fiesta</td>\n",
       "      <td>2019</td>\n",
       "      <td>16500</td>\n",
       "      <td>Automatic</td>\n",
       "      <td>1482</td>\n",
       "      <td>Petrol</td>\n",
       "      <td>145</td>\n",
       "      <td>48.7</td>\n",
       "      <td>1.0</td>\n",
       "    </tr>\n",
       "    <tr>\n",
       "      <th>...</th>\n",
       "      <td>...</td>\n",
       "      <td>...</td>\n",
       "      <td>...</td>\n",
       "      <td>...</td>\n",
       "      <td>...</td>\n",
       "      <td>...</td>\n",
       "      <td>...</td>\n",
       "      <td>...</td>\n",
       "      <td>...</td>\n",
       "    </tr>\n",
       "    <tr>\n",
       "      <th>17961</th>\n",
       "      <td>B-MAX</td>\n",
       "      <td>2017</td>\n",
       "      <td>8999</td>\n",
       "      <td>Manual</td>\n",
       "      <td>16700</td>\n",
       "      <td>Petrol</td>\n",
       "      <td>150</td>\n",
       "      <td>47.1</td>\n",
       "      <td>1.4</td>\n",
       "    </tr>\n",
       "    <tr>\n",
       "      <th>17962</th>\n",
       "      <td>B-MAX</td>\n",
       "      <td>2014</td>\n",
       "      <td>7499</td>\n",
       "      <td>Manual</td>\n",
       "      <td>40700</td>\n",
       "      <td>Petrol</td>\n",
       "      <td>30</td>\n",
       "      <td>57.7</td>\n",
       "      <td>1.0</td>\n",
       "    </tr>\n",
       "    <tr>\n",
       "      <th>17963</th>\n",
       "      <td>Focus</td>\n",
       "      <td>2015</td>\n",
       "      <td>9999</td>\n",
       "      <td>Manual</td>\n",
       "      <td>7010</td>\n",
       "      <td>Diesel</td>\n",
       "      <td>20</td>\n",
       "      <td>67.3</td>\n",
       "      <td>1.6</td>\n",
       "    </tr>\n",
       "    <tr>\n",
       "      <th>17964</th>\n",
       "      <td>KA</td>\n",
       "      <td>2018</td>\n",
       "      <td>8299</td>\n",
       "      <td>Manual</td>\n",
       "      <td>5007</td>\n",
       "      <td>Petrol</td>\n",
       "      <td>145</td>\n",
       "      <td>57.7</td>\n",
       "      <td>1.2</td>\n",
       "    </tr>\n",
       "    <tr>\n",
       "      <th>17965</th>\n",
       "      <td>Focus</td>\n",
       "      <td>2015</td>\n",
       "      <td>8299</td>\n",
       "      <td>Manual</td>\n",
       "      <td>5007</td>\n",
       "      <td>Petrol</td>\n",
       "      <td>22</td>\n",
       "      <td>57.7</td>\n",
       "      <td>1.0</td>\n",
       "    </tr>\n",
       "  </tbody>\n",
       "</table>\n",
       "<p>17966 rows × 9 columns</p>\n",
       "</div>"
      ],
      "text/plain": [
       "         model  year  price transmission  mileage fuelType  tax   mpg  \\\n",
       "0       Fiesta  2017  12000    Automatic    15944   Petrol  150  57.7   \n",
       "1        Focus  2018  14000       Manual     9083   Petrol  150  57.7   \n",
       "2        Focus  2017  13000       Manual    12456   Petrol  150  57.7   \n",
       "3       Fiesta  2019  17500       Manual    10460   Petrol  145  40.3   \n",
       "4       Fiesta  2019  16500    Automatic     1482   Petrol  145  48.7   \n",
       "...        ...   ...    ...          ...      ...      ...  ...   ...   \n",
       "17961    B-MAX  2017   8999       Manual    16700   Petrol  150  47.1   \n",
       "17962    B-MAX  2014   7499       Manual    40700   Petrol   30  57.7   \n",
       "17963    Focus  2015   9999       Manual     7010   Diesel   20  67.3   \n",
       "17964       KA  2018   8299       Manual     5007   Petrol  145  57.7   \n",
       "17965    Focus  2015   8299       Manual     5007   Petrol   22  57.7   \n",
       "\n",
       "       engineSize  \n",
       "0             1.0  \n",
       "1             1.0  \n",
       "2             1.0  \n",
       "3             1.5  \n",
       "4             1.0  \n",
       "...           ...  \n",
       "17961         1.4  \n",
       "17962         1.0  \n",
       "17963         1.6  \n",
       "17964         1.2  \n",
       "17965         1.0  \n",
       "\n",
       "[17966 rows x 9 columns]"
      ]
     },
     "execution_count": 2,
     "metadata": {},
     "output_type": "execute_result"
    }
   ],
   "source": [
    "# Imports\n",
    "import numpy as np\n",
    "import pandas as pd\n",
    "import matplotlib.pyplot as plt\n",
    "import seaborn as sns\n",
    "\n",
    "df = pd.read_csv(\"ford.csv\")\n",
    "df"
   ]
  },
  {
   "cell_type": "markdown",
   "metadata": {
    "id": "E9uGSQ118Sjz"
   },
   "source": [
    "At a first glance, the data seems rather clean. To make the data is usable, we need to determine the number of NA values, if any."
   ]
  },
  {
   "cell_type": "code",
   "execution_count": 5,
   "metadata": {
    "colab": {
     "base_uri": "https://localhost:8080/",
     "height": 424
    },
    "id": "VqK5eNgoA7_D",
    "outputId": "72fcba9d-0d35-48c5-e732-091549a82685"
   },
   "outputs": [
    {
     "data": {
      "text/plain": [
       "model           0\n",
       "year            0\n",
       "price           0\n",
       "transmission    0\n",
       "mileage         0\n",
       "fuelType        0\n",
       "tax             0\n",
       "mpg             0\n",
       "engineSize      0\n",
       "dtype: int64"
      ]
     },
     "execution_count": 5,
     "metadata": {},
     "output_type": "execute_result"
    }
   ],
   "source": [
    "df.isna().sum()"
   ]
  },
  {
   "cell_type": "markdown",
   "metadata": {
    "id": "AA2zBAWa8hMy"
   },
   "source": [
    "We find that there are actually no NA values in our data. The data is ready to use apart from one small error: on the Kaggle summary page, the year of the cars' manufacture ranged from 1996 to 2060. Although we can reasonably assume that this was a typo, and that the actual manufacture year was probably 2006 instead of 2060, let's choose to filter out all cars newer than 2020."
   ]
  },
  {
   "cell_type": "code",
   "execution_count": 6,
   "metadata": {
    "colab": {
     "base_uri": "https://localhost:8080/",
     "height": 424
    },
    "id": "25jgdAOklg8x",
    "outputId": "0127553b-37c2-47f7-bf5a-ab4631728817"
   },
   "outputs": [],
   "source": [
    "df = df[ df[\"year\"] <= 2020]"
   ]
  },
  {
   "cell_type": "markdown",
   "metadata": {
    "id": "HEiXg_WkG-xg"
   },
   "source": [
    "## Analysis"
   ]
  },
  {
   "cell_type": "markdown",
   "metadata": {
    "id": "RuOFWykhy5Pm"
   },
   "source": [
    "We want to determine the common similarities between cars that have the highest mileage, that is, the cars that were durable enough to withstand a significant amount of use. More specifically, we want to explore the relationship between features such as fuel type, engine size, and transmission type and the vehicle's total mileage.\n"
   ]
  },
  {
   "cell_type": "markdown",
   "metadata": {
    "id": "k03pyACtzrrr"
   },
   "source": [
    "Let's sort the dataframe by greatest to least mileage. Let's also drop the \"tax\" column as it is not important to our analysis."
   ]
  },
  {
   "cell_type": "code",
   "execution_count": 7,
   "metadata": {
    "colab": {
     "base_uri": "https://localhost:8080/",
     "height": 206
    },
    "id": "usfAqMD_zt0z",
    "outputId": "20c0e677-68e9-4b55-c205-79e2990f19a5"
   },
   "outputs": [
    {
     "data": {
      "text/html": [
       "<div>\n",
       "<style scoped>\n",
       "    .dataframe tbody tr th:only-of-type {\n",
       "        vertical-align: middle;\n",
       "    }\n",
       "\n",
       "    .dataframe tbody tr th {\n",
       "        vertical-align: top;\n",
       "    }\n",
       "\n",
       "    .dataframe thead th {\n",
       "        text-align: right;\n",
       "    }\n",
       "</style>\n",
       "<table border=\"1\" class=\"dataframe\">\n",
       "  <thead>\n",
       "    <tr style=\"text-align: right;\">\n",
       "      <th></th>\n",
       "      <th>model</th>\n",
       "      <th>year</th>\n",
       "      <th>price</th>\n",
       "      <th>transmission</th>\n",
       "      <th>mileage</th>\n",
       "      <th>fuelType</th>\n",
       "      <th>mpg</th>\n",
       "      <th>engineSize</th>\n",
       "    </tr>\n",
       "  </thead>\n",
       "  <tbody>\n",
       "    <tr>\n",
       "      <th>17103</th>\n",
       "      <td>Focus</td>\n",
       "      <td>2003</td>\n",
       "      <td>495</td>\n",
       "      <td>Manual</td>\n",
       "      <td>177644</td>\n",
       "      <td>Petrol</td>\n",
       "      <td>41.5</td>\n",
       "      <td>1.6</td>\n",
       "    </tr>\n",
       "    <tr>\n",
       "      <th>16946</th>\n",
       "      <td>Galaxy</td>\n",
       "      <td>2008</td>\n",
       "      <td>3995</td>\n",
       "      <td>Manual</td>\n",
       "      <td>174000</td>\n",
       "      <td>Diesel</td>\n",
       "      <td>44.8</td>\n",
       "      <td>1.8</td>\n",
       "    </tr>\n",
       "    <tr>\n",
       "      <th>16939</th>\n",
       "      <td>Mondeo</td>\n",
       "      <td>2012</td>\n",
       "      <td>3495</td>\n",
       "      <td>Manual</td>\n",
       "      <td>151000</td>\n",
       "      <td>Diesel</td>\n",
       "      <td>65.7</td>\n",
       "      <td>1.6</td>\n",
       "    </tr>\n",
       "    <tr>\n",
       "      <th>16250</th>\n",
       "      <td>Mondeo</td>\n",
       "      <td>2015</td>\n",
       "      <td>5795</td>\n",
       "      <td>Manual</td>\n",
       "      <td>150890</td>\n",
       "      <td>Diesel</td>\n",
       "      <td>65.7</td>\n",
       "      <td>2.0</td>\n",
       "    </tr>\n",
       "    <tr>\n",
       "      <th>17742</th>\n",
       "      <td>S-MAX</td>\n",
       "      <td>2007</td>\n",
       "      <td>2400</td>\n",
       "      <td>Manual</td>\n",
       "      <td>144000</td>\n",
       "      <td>Diesel</td>\n",
       "      <td>44.1</td>\n",
       "      <td>2.0</td>\n",
       "    </tr>\n",
       "  </tbody>\n",
       "</table>\n",
       "</div>"
      ],
      "text/plain": [
       "         model  year  price transmission  mileage fuelType   mpg  engineSize\n",
       "17103    Focus  2003    495       Manual   177644   Petrol  41.5         1.6\n",
       "16946   Galaxy  2008   3995       Manual   174000   Diesel  44.8         1.8\n",
       "16939   Mondeo  2012   3495       Manual   151000   Diesel  65.7         1.6\n",
       "16250   Mondeo  2015   5795       Manual   150890   Diesel  65.7         2.0\n",
       "17742    S-MAX  2007   2400       Manual   144000   Diesel  44.1         2.0"
      ]
     },
     "execution_count": 7,
     "metadata": {},
     "output_type": "execute_result"
    }
   ],
   "source": [
    "df_sorted = df.sort_values(by = ['mileage'], ascending = False)\n",
    "df_sorted.drop(['tax'], axis = 1, inplace = True)\n",
    "df_sorted.head()"
   ]
  },
  {
   "cell_type": "markdown",
   "metadata": {
    "id": "SmVxYl3Ez7le"
   },
   "source": [
    "Let's now take a look at how the mileage of the cars in the dataset is distributed."
   ]
  },
  {
   "cell_type": "code",
   "execution_count": 8,
   "metadata": {
    "colab": {
     "base_uri": "https://localhost:8080/"
    },
    "id": "zgQywyDMz8aA",
    "outputId": "5f82031a-5904-40b8-dcb1-4d526865cfac"
   },
   "outputs": [
    {
     "data": {
      "text/plain": [
       "count     17965.000000\n",
       "mean      23360.858447\n",
       "std       19471.182902\n",
       "min           1.000000\n",
       "25%        9987.000000\n",
       "50%       18242.000000\n",
       "75%       31048.000000\n",
       "max      177644.000000\n",
       "Name: mileage, dtype: float64"
      ]
     },
     "execution_count": 8,
     "metadata": {},
     "output_type": "execute_result"
    }
   ],
   "source": [
    "df_sorted.mileage.describe()"
   ]
  },
  {
   "cell_type": "code",
   "execution_count": 9,
   "metadata": {
    "colab": {
     "base_uri": "https://localhost:8080/",
     "height": 317
    },
    "id": "YCOMupxG0Buk",
    "outputId": "5c57ba60-4328-4bc0-9a5a-473577f33d99"
   },
   "outputs": [
    {
     "data": {
      "text/plain": [
       "array([[<AxesSubplot:title={'center':'mileage'}>]], dtype=object)"
      ]
     },
     "execution_count": 9,
     "metadata": {},
     "output_type": "execute_result"
    },
    {
     "data": {
      "image/png": "[encoded data removed]",
      "text/plain": [
       "<Figure size 432x288 with 1 Axes>"
      ]
     },
     "metadata": {
      "needs_background": "light"
     },
     "output_type": "display_data"
    }
   ],
   "source": [
    "df_sorted.hist(column = ['mileage'])"
   ]
  },
  {
   "cell_type": "markdown",
   "metadata": {
    "id": "-4ZEH-cc0OA4"
   },
   "source": [
    "Let's now look at the cars that we consider to be \"high-mileage\". In this case, we define a high-mileage car in this dataset to be one that is 3 standard deviations or more away from the mean. This is about 81,500 miles."
   ]
  },
  {
   "cell_type": "code",
   "execution_count": 10,
   "metadata": {
    "colab": {
     "base_uri": "https://localhost:8080/",
     "height": 424
    },
    "id": "27V4TtuF0Ov9",
    "outputId": "87943e11-a81e-4af8-cfe7-8d4eb5774f63"
   },
   "outputs": [
    {
     "data": {
      "text/html": [
       "<div>\n",
       "<style scoped>\n",
       "    .dataframe tbody tr th:only-of-type {\n",
       "        vertical-align: middle;\n",
       "    }\n",
       "\n",
       "    .dataframe tbody tr th {\n",
       "        vertical-align: top;\n",
       "    }\n",
       "\n",
       "    .dataframe thead th {\n",
       "        text-align: right;\n",
       "    }\n",
       "</style>\n",
       "<table border=\"1\" class=\"dataframe\">\n",
       "  <thead>\n",
       "    <tr style=\"text-align: right;\">\n",
       "      <th></th>\n",
       "      <th>model</th>\n",
       "      <th>year</th>\n",
       "      <th>price</th>\n",
       "      <th>transmission</th>\n",
       "      <th>mileage</th>\n",
       "      <th>fuelType</th>\n",
       "      <th>tax</th>\n",
       "      <th>mpg</th>\n",
       "      <th>engineSize</th>\n",
       "    </tr>\n",
       "  </thead>\n",
       "  <tbody>\n",
       "    <tr>\n",
       "      <th>288</th>\n",
       "      <td>Fiesta</td>\n",
       "      <td>2014</td>\n",
       "      <td>4699</td>\n",
       "      <td>Manual</td>\n",
       "      <td>85000</td>\n",
       "      <td>Petrol</td>\n",
       "      <td>30</td>\n",
       "      <td>54.3</td>\n",
       "      <td>1.2</td>\n",
       "    </tr>\n",
       "    <tr>\n",
       "      <th>491</th>\n",
       "      <td>Focus</td>\n",
       "      <td>2016</td>\n",
       "      <td>7000</td>\n",
       "      <td>Manual</td>\n",
       "      <td>82616</td>\n",
       "      <td>Diesel</td>\n",
       "      <td>0</td>\n",
       "      <td>74.3</td>\n",
       "      <td>1.5</td>\n",
       "    </tr>\n",
       "    <tr>\n",
       "      <th>1343</th>\n",
       "      <td>Tourneo Connect</td>\n",
       "      <td>2015</td>\n",
       "      <td>9998</td>\n",
       "      <td>Manual</td>\n",
       "      <td>88927</td>\n",
       "      <td>Diesel</td>\n",
       "      <td>30</td>\n",
       "      <td>64.2</td>\n",
       "      <td>1.5</td>\n",
       "    </tr>\n",
       "    <tr>\n",
       "      <th>2108</th>\n",
       "      <td>Focus</td>\n",
       "      <td>2017</td>\n",
       "      <td>6995</td>\n",
       "      <td>Semi-Auto</td>\n",
       "      <td>87659</td>\n",
       "      <td>Diesel</td>\n",
       "      <td>150</td>\n",
       "      <td>67.3</td>\n",
       "      <td>1.5</td>\n",
       "    </tr>\n",
       "    <tr>\n",
       "      <th>2962</th>\n",
       "      <td>Kuga</td>\n",
       "      <td>2013</td>\n",
       "      <td>8995</td>\n",
       "      <td>Manual</td>\n",
       "      <td>97364</td>\n",
       "      <td>Diesel</td>\n",
       "      <td>200</td>\n",
       "      <td>47.9</td>\n",
       "      <td>2.0</td>\n",
       "    </tr>\n",
       "    <tr>\n",
       "      <th>...</th>\n",
       "      <td>...</td>\n",
       "      <td>...</td>\n",
       "      <td>...</td>\n",
       "      <td>...</td>\n",
       "      <td>...</td>\n",
       "      <td>...</td>\n",
       "      <td>...</td>\n",
       "      <td>...</td>\n",
       "      <td>...</td>\n",
       "    </tr>\n",
       "    <tr>\n",
       "      <th>17754</th>\n",
       "      <td>Focus</td>\n",
       "      <td>2006</td>\n",
       "      <td>1495</td>\n",
       "      <td>Manual</td>\n",
       "      <td>105000</td>\n",
       "      <td>Diesel</td>\n",
       "      <td>125</td>\n",
       "      <td>58.9</td>\n",
       "      <td>1.6</td>\n",
       "    </tr>\n",
       "    <tr>\n",
       "      <th>17756</th>\n",
       "      <td>C-MAX</td>\n",
       "      <td>2014</td>\n",
       "      <td>4895</td>\n",
       "      <td>Manual</td>\n",
       "      <td>110000</td>\n",
       "      <td>Diesel</td>\n",
       "      <td>125</td>\n",
       "      <td>55.4</td>\n",
       "      <td>2.0</td>\n",
       "    </tr>\n",
       "    <tr>\n",
       "      <th>17759</th>\n",
       "      <td>Fiesta</td>\n",
       "      <td>2012</td>\n",
       "      <td>4195</td>\n",
       "      <td>Manual</td>\n",
       "      <td>91598</td>\n",
       "      <td>Petrol</td>\n",
       "      <td>125</td>\n",
       "      <td>48.7</td>\n",
       "      <td>1.4</td>\n",
       "    </tr>\n",
       "    <tr>\n",
       "      <th>17760</th>\n",
       "      <td>C-MAX</td>\n",
       "      <td>2007</td>\n",
       "      <td>2695</td>\n",
       "      <td>Manual</td>\n",
       "      <td>82000</td>\n",
       "      <td>Petrol</td>\n",
       "      <td>235</td>\n",
       "      <td>39.8</td>\n",
       "      <td>1.8</td>\n",
       "    </tr>\n",
       "    <tr>\n",
       "      <th>17761</th>\n",
       "      <td>Focus</td>\n",
       "      <td>2005</td>\n",
       "      <td>2495</td>\n",
       "      <td>Automatic</td>\n",
       "      <td>87908</td>\n",
       "      <td>Petrol</td>\n",
       "      <td>265</td>\n",
       "      <td>36.7</td>\n",
       "      <td>1.6</td>\n",
       "    </tr>\n",
       "  </tbody>\n",
       "</table>\n",
       "<p>331 rows × 9 columns</p>\n",
       "</div>"
      ],
      "text/plain": [
       "                  model  year  price transmission  mileage fuelType  tax  \\\n",
       "288              Fiesta  2014   4699       Manual    85000   Petrol   30   \n",
       "491               Focus  2016   7000       Manual    82616   Diesel    0   \n",
       "1343    Tourneo Connect  2015   9998       Manual    88927   Diesel   30   \n",
       "2108              Focus  2017   6995    Semi-Auto    87659   Diesel  150   \n",
       "2962               Kuga  2013   8995       Manual    97364   Diesel  200   \n",
       "...                 ...   ...    ...          ...      ...      ...  ...   \n",
       "17754             Focus  2006   1495       Manual   105000   Diesel  125   \n",
       "17756             C-MAX  2014   4895       Manual   110000   Diesel  125   \n",
       "17759            Fiesta  2012   4195       Manual    91598   Petrol  125   \n",
       "17760             C-MAX  2007   2695       Manual    82000   Petrol  235   \n",
       "17761             Focus  2005   2495    Automatic    87908   Petrol  265   \n",
       "\n",
       "        mpg  engineSize  \n",
       "288    54.3         1.2  \n",
       "491    74.3         1.5  \n",
       "1343   64.2         1.5  \n",
       "2108   67.3         1.5  \n",
       "2962   47.9         2.0  \n",
       "...     ...         ...  \n",
       "17754  58.9         1.6  \n",
       "17756  55.4         2.0  \n",
       "17759  48.7         1.4  \n",
       "17760  39.8         1.8  \n",
       "17761  36.7         1.6  \n",
       "\n",
       "[331 rows x 9 columns]"
      ]
     },
     "execution_count": 10,
     "metadata": {},
     "output_type": "execute_result"
    }
   ],
   "source": [
    "x = df[df['mileage'] >= 81500]\n",
    "x"
   ]
  },
  {
   "cell_type": "markdown",
   "metadata": {
    "id": "T9Z40AEV0UE2"
   },
   "source": [
    "Let's now focus on transmission type, and see what the prevalent type is for this high-mileage subset."
   ]
  },
  {
   "cell_type": "code",
   "execution_count": 16,
   "metadata": {
    "colab": {
     "base_uri": "https://localhost:8080/"
    },
    "id": "ZxWlrW_50Ul-",
    "outputId": "556ea1ae-6547-44fc-8315-1845f00a3930"
   },
   "outputs": [
    {
     "name": "stdout",
     "output_type": "stream",
     "text": [
      "Manual       303\n",
      "Automatic     25\n",
      "Semi-Auto      3\n",
      "Name: transmission, dtype: int64\n",
      "0.9154\n"
     ]
    }
   ],
   "source": [
    "print(x.transmission.value_counts())\n",
    "print(round(303 / 331, 4))"
   ]
  },
  {
   "cell_type": "markdown",
   "metadata": {
    "id": "h02nZJZ00Zxq"
   },
   "source": [
    "We see that over 91.5% of the cars in this subset are manual transmission vehicles. Let's compare this to the total percentage of manual vehicles in the complete dataset."
   ]
  },
  {
   "cell_type": "code",
   "execution_count": 17,
   "metadata": {
    "colab": {
     "base_uri": "https://localhost:8080/"
    },
    "id": "rI30QBE90adw",
    "outputId": "7aff545e-ead7-4532-990a-8c11b0eb85a1"
   },
   "outputs": [
    {
     "name": "stdout",
     "output_type": "stream",
     "text": [
      "Manual       15518\n",
      "Automatic     1360\n",
      "Semi-Auto     1087\n",
      "Name: transmission, dtype: int64\n",
      "0.864\n"
     ]
    }
   ],
   "source": [
    "print(df.transmission.value_counts())\n",
    "print(round((15518) /  (15518 + 1361 + 1087), 3))"
   ]
  },
  {
   "cell_type": "markdown",
   "metadata": {
    "id": "BNPcDx770haQ"
   },
   "source": [
    "Although the vast majority of the high-mileage cars are manuals (91.5%), so are the cars in the entire dataset (86.4%), so this feature does not necessarily contribute to longevity and durability."
   ]
  },
  {
   "cell_type": "markdown",
   "metadata": {
    "id": "dbrMbisf0nwd"
   },
   "source": [
    "Let's take a look at fuel type now. As a preliminary hypothesis, let's claim that diesel-powered vehicles are more durable and last a greater number of miles than gasoline engines. This is reasonable, since diesel engines must be able to withstand much higher compression forces due to the nature of diesel combustion, and thus must be more robustly built than gasoline engines."
   ]
  },
  {
   "cell_type": "code",
   "execution_count": 19,
   "metadata": {
    "colab": {
     "base_uri": "https://localhost:8080/"
    },
    "id": "OglZu-fD0fwr",
    "outputId": "7f0bfb76-bf16-4c57-c8c5-ae57b012701a"
   },
   "outputs": [
    {
     "name": "stdout",
     "output_type": "stream",
     "text": [
      "Petrol      12178\n",
      "Diesel       5762\n",
      "Hybrid         22\n",
      "Electric        2\n",
      "Other           1\n",
      "Name: fuelType, dtype: int64\n",
      "0.321\n"
     ]
    }
   ],
   "source": [
    "print(df.fuelType.value_counts())\n",
    "print(round(5762 / (12179 + 5762 + 22 + 2 + 1), 3))"
   ]
  },
  {
   "cell_type": "markdown",
   "metadata": {
    "id": "cKVSr8ai0t7R"
   },
   "source": [
    "Diesel engines account for about 32% of the total dataset."
   ]
  },
  {
   "cell_type": "code",
   "execution_count": 20,
   "metadata": {
    "colab": {
     "base_uri": "https://localhost:8080/"
    },
    "id": "gbyhc2Yu0rT-",
    "outputId": "79098ba5-6da5-45c7-a122-de51680c55a5"
   },
   "outputs": [
    {
     "name": "stdout",
     "output_type": "stream",
     "text": [
      "Diesel    205\n",
      "Petrol    124\n",
      "Hybrid      2\n",
      "Name: fuelType, dtype: int64\n",
      "0.619\n"
     ]
    }
   ],
   "source": [
    "print(x.fuelType.value_counts())\n",
    "print(205 / (205 + 124 + 2))"
   ]
  },
  {
   "cell_type": "markdown",
   "metadata": {
    "id": "X165QCMT0xrh"
   },
   "source": [
    "In the high-mileage subset, however, diesel-powered cars account for 62% of the observations. There seems to be some correlation between engine type and mileage. Let's visualize the proportion of diesel engines versus mileage for both datasets. This histogram depicts the fuel type distribution for the complete dataset."
   ]
  },
  {
   "cell_type": "code",
   "execution_count": 21,
   "metadata": {
    "colab": {
     "base_uri": "https://localhost:8080/",
     "height": 297
    },
    "id": "dT8IPxsN0xDR",
    "outputId": "908c67fe-7dbc-438f-b26a-fa531e6061e7"
   },
   "outputs": [
    {
     "data": {
      "text/plain": [
       "[Text(0.5, 0, 'Fuel Type')]"
      ]
     },
     "execution_count": 21,
     "metadata": {},
     "output_type": "execute_result"
    },
    {
     "data": {
      "image/png": "[encoded data removed]",
      "text/plain": [
       "<Figure size 432x288 with 1 Axes>"
      ]
     },
     "metadata": {
      "needs_background": "light"
     },
     "output_type": "display_data"
    }
   ],
   "source": [
    "ax = sns.histplot(data = df, x = 'fuelType')\n",
    "ax.set(xlabel = 'Fuel Type')"
   ]
  },
  {
   "cell_type": "code",
   "execution_count": 22,
   "metadata": {
    "colab": {
     "base_uri": "https://localhost:8080/",
     "height": 297
    },
    "id": "sh6KVb6J08x_",
    "outputId": "838f4aed-679e-4b43-aff9-76ee875e0d57"
   },
   "outputs": [
    {
     "data": {
      "text/plain": [
       "[Text(0.5, 0, 'Fuel Type')]"
      ]
     },
     "execution_count": 22,
     "metadata": {},
     "output_type": "execute_result"
    },
    {
     "data": {
      "image/png": "[encoded data removed]",
      "text/plain": [
       "<Figure size 432x288 with 1 Axes>"
      ]
     },
     "metadata": {
      "needs_background": "light"
     },
     "output_type": "display_data"
    }
   ],
   "source": [
    "ax2 = sns.histplot(data = x, x = 'fuelType')\n",
    "ax2.set(xlabel = 'Fuel Type')"
   ]
  },
  {
   "cell_type": "markdown",
   "metadata": {
    "id": "vywOJGYa1K77"
   },
   "source": [
    "We can create a scatterplot of fuel type versus mileage to see that, even though diesel engines only account for 32% of the dataset, they are the dominant fuel type of high-mileage vehicles."
   ]
  },
  {
   "cell_type": "code",
   "execution_count": 23,
   "metadata": {
    "colab": {
     "base_uri": "https://localhost:8080/",
     "height": 297
    },
    "id": "6DX9J9yu1IP7",
    "outputId": "63ba70d7-e016-431e-fbae-d12a79088d2a"
   },
   "outputs": [
    {
     "data": {
      "text/plain": [
       "[Text(0.5, 0, 'Fuel Type'), Text(0, 0.5, 'Mileage')]"
      ]
     },
     "execution_count": 23,
     "metadata": {},
     "output_type": "execute_result"
    },
    {
     "data": {
      "image/png": "[encoded data removed]",
      "text/plain": [
       "<Figure size 432x288 with 1 Axes>"
      ]
     },
     "metadata": {
      "needs_background": "light"
     },
     "output_type": "display_data"
    }
   ],
   "source": [
    "ax4 = sns.scatterplot(data = df, x = 'fuelType', y = 'mileage')\n",
    "ax4.set(xlabel = 'Fuel Type', ylabel = 'Mileage')"
   ]
  },
  {
   "cell_type": "markdown",
   "metadata": {
    "id": "su8PsVBP1WeL"
   },
   "source": [
    "We can thus assume that diesel-powered vehicles possess more longevity than petrol-powered vehicles, at least when it comes to engine durability."
   ]
  },
  {
   "cell_type": "markdown",
   "metadata": {
    "id": "nvbocX3f1mvO"
   },
   "source": [
    "Let's now determine if there's a relationship between engine size and mileage, specifically whether a certain range of engine size leads to higher-mileage vehicles. We can do this with a scatterplot."
   ]
  },
  {
   "cell_type": "code",
   "execution_count": 24,
   "metadata": {
    "colab": {
     "base_uri": "https://localhost:8080/",
     "height": 279
    },
    "id": "L87ZmMO11oQ5",
    "outputId": "3f5176fb-de86-4c4e-c400-435a537c3bf2"
   },
   "outputs": [
    {
     "data": {
      "image/png": "[encoded data removed]",
      "text/plain": [
       "<Figure size 432x288 with 1 Axes>"
      ]
     },
     "metadata": {
      "needs_background": "light"
     },
     "output_type": "display_data"
    }
   ],
   "source": [
    "ax5 = sns.scatterplot(data = df, x = 'engineSize', y = 'mileage')\n",
    "ax5.set(xlabel = 'Engine Size', ylabel = 'Mileage')\n",
    "plt.xticks([0, 0.5, 1, 1.5, 2, 2.5, 3, 3.5, 4, 4.5, 5])\n",
    "plt.show()"
   ]
  },
  {
   "cell_type": "markdown",
   "metadata": {
    "id": "xOIgorMd10Gn"
   },
   "source": [
    "Let's also create a frequency histogram to simultaneously see which engine sizes are most prevalent in the dataset."
   ]
  },
  {
   "cell_type": "code",
   "execution_count": 25,
   "metadata": {
    "colab": {
     "base_uri": "https://localhost:8080/",
     "height": 279
    },
    "id": "g6BDrEZ210zy",
    "outputId": "a30513e7-5738-4f2a-f012-2ca2f2f320a3"
   },
   "outputs": [
    {
     "data": {
      "image/png": "[encoded data removed]",
      "text/plain": [
       "<Figure size 432x288 with 1 Axes>"
      ]
     },
     "metadata": {
      "needs_background": "light"
     },
     "output_type": "display_data"
    }
   ],
   "source": [
    "ax6 = sns.histplot(data = df, x = 'engineSize')\n",
    "ax6.set(xlabel = 'Engine Size', ylabel = 'Count')\n",
    "plt.xticks([0, 0.5, 1, 1.5, 2, 2.5, 3, 3.5, 4, 4.5, 5])\n",
    "plt.show()"
   ]
  },
  {
   "cell_type": "markdown",
   "metadata": {
    "id": "pdY5C8qQ17YI"
   },
   "source": [
    "Interestingly, 1.0-liter engines are by far the most common engines within the dataset, comprising about 7,800 out of the 17,966 vehicles in the dataset. However, from the scatterplot, we can see that the highest-mileage vehicles in the dataset have engines that range from about 1.5 to 2.0 liters in displacement. Let's create a similar frequency histogram, this time with the high-mileage subset only. "
   ]
  },
  {
   "cell_type": "code",
   "execution_count": 26,
   "metadata": {
    "colab": {
     "base_uri": "https://localhost:8080/",
     "height": 279
    },
    "id": "Eqb5JZMv13u-",
    "outputId": "6a7837fc-1e79-430a-9d0e-4bc2a2c30f48"
   },
   "outputs": [
    {
     "data": {
      "image/png": "[encoded data removed]",
      "text/plain": [
       "<Figure size 432x288 with 1 Axes>"
      ]
     },
     "metadata": {
      "needs_background": "light"
     },
     "output_type": "display_data"
    }
   ],
   "source": [
    "ax7 = sns.histplot(data = x, x = 'engineSize')\n",
    "ax7.set(xlabel = 'Engine Size', ylabel = 'Count')\n",
    "plt.xticks([0, 0.5, 1, 1.5, 2, 2.5, 3, 3.5, 4, 4.5, 5])\n",
    "plt.show()"
   ]
  },
  {
   "cell_type": "markdown",
   "metadata": {
    "id": "evJAGWPE2Coz"
   },
   "source": [
    "This plot further supports our claim. Although 1.0-liter engines make up over 40% of the total dataset, very few of them appear in our high-mileage subset (about 10 out of 331, or 3% of the subset). Furthermore, the majority of the high-mileage subset comprises of engines that are between 1.5 and 2.0 liters in displacement. "
   ]
  },
  {
   "cell_type": "markdown",
   "metadata": {
    "id": "XmFVt0dY2DAM"
   },
   "source": [
    "From this analysis, we can reasonably make two conclusions. One of them is that Ford's diesel engines are more likely to last over 81,500 miles (our cutoff for high-mileage cars) than petrol engines. The second is that Ford engines with a displacement of between 1.5 and 2.0 liters are more likely to last more than 81,500 miles than other engine sizes."
   ]
  }
 ],
 "metadata": {
  "colab": {
   "provenance": []
  },
  "kernelspec": {
   "display_name": "Python 3 (ipykernel)",
   "language": "python",
   "name": "python3"
  },
  "language_info": {
   "codemirror_mode": {
    "name": "ipython",
    "version": 3
   },
   "file_extension": ".py",
   "mimetype": "text/x-python",
   "name": "python",
   "nbconvert_exporter": "python",
   "pygments_lexer": "ipython3",
   "version": "3.9.7"
  }
 },
 "nbformat": 4,
 "nbformat_minor": 1
}
