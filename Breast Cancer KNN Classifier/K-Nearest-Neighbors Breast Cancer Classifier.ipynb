{
 "cells": [
  {
   "cell_type": "markdown",
   "metadata": {},
   "source": [
    "# K-Nearest-Neighbors Breast Cancer Classifier"
   ]
  },
  {
   "cell_type": "markdown",
   "metadata": {},
   "source": [
    "Hi, everyone. In this notebook, we will be using a breast cancer dataset sourced from the SciKit Learn library to predict whether or not certain tumors are malignant or benign, and therefore indicative of breast cancer or not. More importantly we will be exploring the K-Nearest-Neighbors machine learning model to do this, determining how we can optimize the model to produce the most accurate results for ourselves."
   ]
  },
  {
   "cell_type": "markdown",
   "metadata": {},
   "source": [
    "Let's first import the required dependencies, including the dataset itself:"
   ]
  },
  {
   "cell_type": "code",
   "execution_count": 3,
   "metadata": {},
   "outputs": [],
   "source": [
    "import seaborn as sns\n",
    "from sklearn.datasets import load_breast_cancer \n",
    "from sklearn.model_selection import train_test_split\n",
    "from sklearn.neighbors import KNeighborsClassifier\n",
    "import matplotlib.pyplot as plt"
   ]
  },
  {
   "cell_type": "markdown",
   "metadata": {},
   "source": [
    "Next, let's load the dataset onto a dataframe:"
   ]
  },
  {
   "cell_type": "code",
   "execution_count": 4,
   "metadata": {},
   "outputs": [],
   "source": [
    "breast_cancer_data = load_breast_cancer()"
   ]
  },
  {
   "cell_type": "markdown",
   "metadata": {},
   "source": [
    "Since this data comes straight from SciKitLearn's library, there's no need for us to clean the data. We will, however, need to split the data into training and testing sets. Sklearn's train_test_split method comes in handy for this:"
   ]
  },
  {
   "cell_type": "code",
   "execution_count": 5,
   "metadata": {},
   "outputs": [],
   "source": [
    "train_data, val_data, train_labels, val_labels = train_test_split(breast_cancer_data.data,\n",
    "                                                                  breast_cancer_data.target,\n",
    "                                                                  test_size = 0.2, random_state = 100)"
   ]
  },
  {
   "cell_type": "markdown",
   "metadata": {},
   "source": [
    "As you can see, I performed an 80/20 split on the data. That is, 80% of the data will be used to train the model, while 20% will be used to test the model. I set a random state on the data as well, as that allows the data to be split the same way every time."
   ]
  },
  {
   "cell_type": "markdown",
   "metadata": {},
   "source": [
    "Now, as you may already know, the accuracy of a KNN model depends largely on the value you select for k. Make your k-value too small, and your model will fall victim to outliers. Make your k-value too large and your model will overfit to the data, and will therefore have a poor out-of-sample accuracy."
   ]
  },
  {
   "cell_type": "markdown",
   "metadata": {},
   "source": [
    "So how do we know which value of k is optimal? We can use a for-loop! We can simply run the KNN algorithm starting with a k-value of 1 inside of a for-loop, incrementing k by a value of 1 every time the loop repeats. We can calculate the accuracy attained by each value of k and append it to an empty list, which we can graph and analyze at the end."
   ]
  },
  {
   "cell_type": "markdown",
   "metadata": {},
   "source": [
    "This is our empty list of accuracies:"
   ]
  },
  {
   "cell_type": "code",
   "execution_count": 6,
   "metadata": {},
   "outputs": [],
   "source": [
    "accuracies = []"
   ]
  },
  {
   "cell_type": "markdown",
   "metadata": {},
   "source": [
    "This is our loop, which will run through 100 values of k ranging from 1-100:"
   ]
  },
  {
   "cell_type": "code",
   "execution_count": 7,
   "metadata": {},
   "outputs": [],
   "source": [
    "for k in range(1, 101):\n",
    "  classifier = KNeighborsClassifier(n_neighbors = k)\n",
    "  classifier.fit(train_data, train_labels)\n",
    "  accuracies.append(classifier.score(val_data, val_labels))"
   ]
  },
  {
   "cell_type": "markdown",
   "metadata": {},
   "source": [
    "We can now graph the list of accuracies against each value of k that it corrresponds with:"
   ]
  },
  {
   "cell_type": "code",
   "execution_count": 8,
   "metadata": {},
   "outputs": [
    {
     "data": {
      "image/png": "[encoded data removed]",
      "text/plain": [
       "<Figure size 432x288 with 1 Axes>"
      ]
     },
     "metadata": {
      "needs_background": "light"
     },
     "output_type": "display_data"
    }
   ],
   "source": [
    "k_list = range(1, 101)\n",
    "\n",
    "plt.plot(k_list, accuracies)\n",
    "plt.xlabel('K-values')\n",
    "plt.ylabel('Validation Accuracy')\n",
    "plt.title(\"Breast Cancer Classifier Accuracy\")\n",
    "plt.show()"
   ]
  },
  {
   "cell_type": "markdown",
   "metadata": {},
   "source": [
    "Nice. It looks like we obtain the best validation accuracy with k being somewhere either in the low 20s, or in the high 50s. Let's get the max accuracy value from the accuracies list to obtain the single best value for k:"
   ]
  },
  {
   "cell_type": "code",
   "execution_count": 15,
   "metadata": {},
   "outputs": [
    {
     "name": "stdout",
     "output_type": "stream",
     "text": [
      "optimal k = 22\n"
     ]
    }
   ],
   "source": [
    "print('optimal k =', accuracies.index(max(accuracies)))"
   ]
  },
  {
   "cell_type": "markdown",
   "metadata": {},
   "source": [
    "And there we are. We have found an optimal value for our machine learning model. This concludes the notebook!"
   ]
  }
 ],
 "metadata": {
  "kernelspec": {
   "display_name": "Python 3",
   "language": "python",
   "name": "python3"
  },
  "language_info": {
   "codemirror_mode": {
    "name": "ipython",
    "version": 3
   },
   "file_extension": ".py",
   "mimetype": "text/x-python",
   "name": "python",
   "nbconvert_exporter": "python",
   "pygments_lexer": "ipython3",
   "version": "3.7.6"
  }
 },
 "nbformat": 4,
 "nbformat_minor": 4
}
